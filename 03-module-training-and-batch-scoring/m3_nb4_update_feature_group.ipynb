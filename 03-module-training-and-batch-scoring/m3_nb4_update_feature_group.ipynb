{
 "cells": [
  {
   "cell_type": "markdown",
   "metadata": {},
   "source": [
    "# Module 3 - Update Feature Group (Optional notebook)\n",
    "### Module 1 is a pre-requisite for this notebook.\n",
    "\n",
    "**Note:** Please set kernel to `Python 3 (Data Science)` and select instance to `ml.t3.medium`\n",
    "\n",
    "---\n",
    "\n",
    "## Contents\n",
    "\n",
    "1. [Setup](#setup)\n",
    "1. [Explore existing customer feature group and data](#explore-customer-fg)\n",
    "1. [Update customer feature group](#update-customer-fg)\n",
    "1. [Ingest data into customer feature group](#ingest-customer-fg)\n",
    "1. [Prepare training data set to retrain model](#model-training-data)\n",
    "1. [Retrain XG Boost model](#retrain-xg-boost)\n",
    "1. [Test model performance against test data](#real-time-inference)\n",
    "\n",
    "---\n",
    "\n",
    "In this notebook, we will illustrate how to modify a feature group using boto3 API and then ingest data into modified feature group. We will cover the following aspects:\n",
    "\n",
    "* Look at existing data from customer feature group\n",
    "* Modify customer feature group to add \"has_kids\" feature and ingest sample data\n",
    "* Verify for a customer record that data has been ingested\n",
    "* Athena query for dataset extraction to prepare data set for retraining(programmatically using SageMaker SDK)\n",
    "* Retrain an XGBoost model similar to what we did in the notebook `m3_nb1_model_training.ipynb`\n",
    "* Test by deploying the model and predicting against a sample test record\n",
    "* Cleanup resources\n",
    "\n"
   ]
  },
  {
   "cell_type": "markdown",
   "metadata": {},
   "source": [
    "## Setup\n",
    "<a id='setup'></a>"
   ]
  },
  {
   "cell_type": "code",
   "execution_count": 1,
   "metadata": {},
   "outputs": [],
   "source": [
    "from sagemaker.feature_store.feature_group import FeatureGroup\n",
    "from sagemaker.serializers import CSVSerializer\n",
    "from sagemaker.inputs import TrainingInput\n",
    "from sagemaker.predictor import Predictor\n",
    "from datetime import datetime, timezone, date\n",
    "from random import randint\n",
    "import pandas as pd\n",
    "import numpy as np\n",
    "import subprocess\n",
    "import sagemaker\n",
    "import importlib\n",
    "import logging\n",
    "import time\n",
    "import sys\n",
    "import boto3\n",
    "import os\n",
    "sys.path.append('..')\n",
    "from utilities import Utils"
   ]
  },
  {
   "cell_type": "code",
   "execution_count": 2,
   "metadata": {},
   "outputs": [],
   "source": [
    "if sagemaker.__version__ < '2.48.1':\n",
    "    subprocess.check_call([sys.executable, '-m', 'pip', 'install', 'sagemaker==2.48.1'])\n",
    "    importlib.reload(sagemaker)"
   ]
  },
  {
   "cell_type": "code",
   "execution_count": 3,
   "metadata": {},
   "outputs": [],
   "source": [
    "if boto3.__version__ < '1.24.23':\n",
    "    subprocess.check_call([sys.executable, '-m', 'pip', 'install', 'boto3==1.24.23'])\n",
    "    importlib.reload(boto3)"
   ]
  },
  {
   "cell_type": "code",
   "execution_count": 4,
   "metadata": {},
   "outputs": [],
   "source": [
    "logger = logging.getLogger('__name__')\n",
    "logger.setLevel(logging.DEBUG)\n",
    "logger.addHandler(logging.StreamHandler())"
   ]
  },
  {
   "cell_type": "code",
   "execution_count": 5,
   "metadata": {},
   "outputs": [
    {
     "name": "stderr",
     "output_type": "stream",
     "text": [
      "Using SageMaker version: 2.95.0\n",
      "Using Pandas version: 1.0.1\n",
      "Using boto3 version: 1.24.23\n"
     ]
    }
   ],
   "source": [
    "logger.info(f'Using SageMaker version: {sagemaker.__version__}')\n",
    "logger.info(f'Using Pandas version: {pd.__version__}')\n",
    "logger.info(f'Using boto3 version: {boto3.__version__}')"
   ]
  },
  {
   "cell_type": "code",
   "execution_count": 6,
   "metadata": {},
   "outputs": [],
   "source": [
    "import pprint\n",
    "pretty_printer = pprint.PrettyPrinter(indent=4)"
   ]
  },
  {
   "cell_type": "code",
   "execution_count": 7,
   "metadata": {},
   "outputs": [],
   "source": [
    "!mkdir ../data/retrain"
   ]
  },
  {
   "cell_type": "markdown",
   "metadata": {},
   "source": [
    "## Essentials"
   ]
  },
  {
   "cell_type": "code",
   "execution_count": 8,
   "metadata": {},
   "outputs": [
    {
     "name": "stderr",
     "output_type": "stream",
     "text": [
      "Default S3 bucket = sagemaker-us-east-1-758387645107\n"
     ]
    }
   ],
   "source": [
    "sagemaker_session = sagemaker.Session()\n",
    "role = sagemaker.get_execution_role()\n",
    "default_bucket = sagemaker_session.default_bucket()\n",
    "logger.info(f'Default S3 bucket = {default_bucket}')\n",
    "prefix = 'sagemaker-feature-store'"
   ]
  },
  {
   "cell_type": "code",
   "execution_count": 9,
   "metadata": {},
   "outputs": [],
   "source": [
    "region = sagemaker_session.boto_region_name"
   ]
  },
  {
   "cell_type": "code",
   "execution_count": 10,
   "metadata": {},
   "outputs": [],
   "source": [
    "boto_session = boto3.Session(region_name=region)\n",
    "sagemaker_runtime = boto_session.client(service_name='sagemaker', region_name=region)\n",
    "featurestore_runtime = boto_session.client(service_name='sagemaker-featurestore-runtime', region_name=region)\n",
    "s3 = boto_session.resource('s3')\n"
   ]
  },
  {
   "cell_type": "code",
   "execution_count": 11,
   "metadata": {},
   "outputs": [],
   "source": [
    "def generate_event_timestamp():\n",
    "    # naive datetime representing local time\n",
    "    naive_dt = datetime.now()\n",
    "    # take timezone into account\n",
    "    aware_dt = naive_dt.astimezone()\n",
    "    # time in UTC\n",
    "    utc_dt = aware_dt.astimezone(timezone.utc)\n",
    "    # transform to ISO-8601 format\n",
    "    event_time = utc_dt.isoformat(timespec='milliseconds')\n",
    "    event_time = event_time.replace('+00:00', 'Z')\n",
    "    return event_time"
   ]
  },
  {
   "cell_type": "markdown",
   "metadata": {},
   "source": [
    "### Explore existing feature definition and the data set\n",
    "<a id='explore-customer-fg'></a>"
   ]
  },
  {
   "cell_type": "markdown",
   "metadata": {},
   "source": [
    "Retrieve variables stored in previous notebooks for feature group names"
   ]
  },
  {
   "cell_type": "code",
   "execution_count": 12,
   "metadata": {},
   "outputs": [
    {
     "name": "stderr",
     "output_type": "stream",
     "text": [
      "Customers FG: fscw-customers-07-13-23-47\n",
      "Products FG: fscw-products-07-13-23-47\n",
      "Orders FG: fscw-orders-07-13-23-47\n"
     ]
    }
   ],
   "source": [
    "# Retreive FG names\n",
    "%store -r customers_feature_group_name\n",
    "%store -r products_feature_group_name\n",
    "%store -r orders_feature_group_name\n",
    "logger.info(f'Customers FG: {customers_feature_group_name}')\n",
    "logger.info(f'Products FG: {products_feature_group_name}')\n",
    "logger.info(f'Orders FG: {orders_feature_group_name}')"
   ]
  },
  {
   "cell_type": "code",
   "execution_count": 13,
   "metadata": {},
   "outputs": [],
   "source": [
    "customers_fg = FeatureGroup(name=customers_feature_group_name, sagemaker_session=sagemaker_session)  \n",
    "products_fg = FeatureGroup(name=products_feature_group_name, sagemaker_session=sagemaker_session)\n",
    "orders_fg = FeatureGroup(name=orders_feature_group_name, sagemaker_session=sagemaker_session)"
   ]
  },
  {
   "cell_type": "markdown",
   "metadata": {},
   "source": [
    "Verify record exists in Customer Feature Group for a random customer_id"
   ]
  },
  {
   "cell_type": "code",
   "execution_count": 14,
   "metadata": {},
   "outputs": [
    {
     "name": "stderr",
     "output_type": "stream",
     "text": [
      "customer_id=C7942\n"
     ]
    }
   ],
   "source": [
    "customer_id =  f'C{randint(1, 10000)}'\n",
    "logger.info(f'customer_id={customer_id}') "
   ]
  },
  {
   "cell_type": "code",
   "execution_count": 15,
   "metadata": {},
   "outputs": [
    {
     "data": {
      "text/plain": [
       "{'ResponseMetadata': {'RequestId': 'dbb2e059-6307-4e8a-ab7b-7684cf38f2f0',\n",
       "  'HTTPStatusCode': 200,\n",
       "  'HTTPHeaders': {'x-amzn-requestid': 'dbb2e059-6307-4e8a-ab7b-7684cf38f2f0',\n",
       "   'content-type': 'application/json',\n",
       "   'content-length': '588',\n",
       "   'date': 'Wed, 13 Jul 2022 23:58:52 GMT'},\n",
       "  'RetryAttempts': 0},\n",
       " 'Record': [{'FeatureName': 'customer_id', 'ValueAsString': 'C7942'},\n",
       "  {'FeatureName': 'sex', 'ValueAsString': '1'},\n",
       "  {'FeatureName': 'is_married', 'ValueAsString': '1'},\n",
       "  {'FeatureName': 'event_time', 'ValueAsString': '2022-07-13T23:46:35.610Z'},\n",
       "  {'FeatureName': 'age_18-29', 'ValueAsString': '1'},\n",
       "  {'FeatureName': 'age_30-39', 'ValueAsString': '0'},\n",
       "  {'FeatureName': 'age_40-49', 'ValueAsString': '0'},\n",
       "  {'FeatureName': 'age_50-59', 'ValueAsString': '0'},\n",
       "  {'FeatureName': 'age_60-69', 'ValueAsString': '0'},\n",
       "  {'FeatureName': 'age_70-plus', 'ValueAsString': '0'},\n",
       "  {'FeatureName': 'n_days_active', 'ValueAsString': '0.2356164383561644'}]}"
      ]
     },
     "execution_count": 15,
     "metadata": {},
     "output_type": "execute_result"
    }
   ],
   "source": [
    "feature_record = featurestore_runtime.get_record(FeatureGroupName=customers_feature_group_name, \n",
    "                                                        RecordIdentifierValueAsString=customer_id)\n",
    "feature_record"
   ]
  },
  {
   "cell_type": "code",
   "execution_count": 16,
   "metadata": {},
   "outputs": [
    {
     "name": "stdout",
     "output_type": "stream",
     "text": [
      "{   'CreationTime': datetime.datetime(2022, 7, 13, 23, 48, 0, 160000, tzinfo=tzlocal()),\n",
      "    'EventTimeFeatureName': 'event_time',\n",
      "    'FeatureDefinitions': [   {   'FeatureName': 'customer_id',\n",
      "                                  'FeatureType': 'String'},\n",
      "                              {'FeatureName': 'sex', 'FeatureType': 'Integral'},\n",
      "                              {   'FeatureName': 'is_married',\n",
      "                                  'FeatureType': 'Integral'},\n",
      "                              {   'FeatureName': 'event_time',\n",
      "                                  'FeatureType': 'String'},\n",
      "                              {   'FeatureName': 'age_18-29',\n",
      "                                  'FeatureType': 'Integral'},\n",
      "                              {   'FeatureName': 'age_30-39',\n",
      "                                  'FeatureType': 'Integral'},\n",
      "                              {   'FeatureName': 'age_40-49',\n",
      "                                  'FeatureType': 'Integral'},\n",
      "                              {   'FeatureName': 'age_50-59',\n",
      "                                  'FeatureType': 'Integral'},\n",
      "                              {   'FeatureName': 'age_60-69',\n",
      "                                  'FeatureType': 'Integral'},\n",
      "                              {   'FeatureName': 'age_70-plus',\n",
      "                                  'FeatureType': 'Integral'},\n",
      "                              {   'FeatureName': 'n_days_active',\n",
      "                                  'FeatureType': 'Fractional'}],\n",
      "    'FeatureGroupArn': 'arn:aws:sagemaker:us-east-1:758387645107:feature-group/fscw-customers-07-13-23-47',\n",
      "    'FeatureGroupName': 'fscw-customers-07-13-23-47',\n",
      "    'FeatureGroupStatus': 'Created',\n",
      "    'OfflineStoreConfig': {   'DataCatalogConfig': {   'Catalog': 'AwsDataCatalog',\n",
      "                                                       'Database': 'sagemaker_featurestore',\n",
      "                                                       'TableName': 'fscw-customers-07-13-23-47-1657756080'},\n",
      "                              'DisableGlueTableCreation': False,\n",
      "                              'S3StorageConfig': {   'ResolvedOutputS3Uri': 's3://sagemaker-us-east-1-758387645107/sagemaker-feature-store/758387645107/sagemaker/us-east-1/offline-store/fscw-customers-07-13-23-47-1657756080/data',\n",
      "                                                     'S3Uri': 's3://sagemaker-us-east-1-758387645107/sagemaker-feature-store'}},\n",
      "    'OfflineStoreStatus': {'Status': 'Active'},\n",
      "    'OnlineStoreConfig': {'EnableOnlineStore': True},\n",
      "    'OnlineStoreTotalSizeBytes': 0,\n",
      "    'RecordIdentifierFeatureName': 'customer_id',\n",
      "    'ResponseMetadata': {   'HTTPHeaders': {   'content-length': '2069',\n",
      "                                               'content-type': 'application/x-amz-json-1.1',\n",
      "                                               'date': 'Wed, 13 Jul 2022 '\n",
      "                                                       '23:58:53 GMT',\n",
      "                                               'x-amzn-requestid': '6f1b71fc-559e-4d49-bcf9-5cc4784528af'},\n",
      "                            'HTTPStatusCode': 200,\n",
      "                            'RequestId': '6f1b71fc-559e-4d49-bcf9-5cc4784528af',\n",
      "                            'RetryAttempts': 0},\n",
      "    'RoleArn': 'arn:aws:iam::758387645107:role/service-role/AmazonSageMaker-ExecutionRole-20211007T130308'}\n"
     ]
    }
   ],
   "source": [
    "describe_feature_group_result = sagemaker_runtime.describe_feature_group(\n",
    "    FeatureGroupName=customers_feature_group_name\n",
    ")\n",
    "pretty_printer.pprint(describe_feature_group_result)"
   ]
  },
  {
   "cell_type": "markdown",
   "metadata": {},
   "source": [
    "### Update feature group and ingest data\n",
    "<a id='update-customer-fg' />"
   ]
  },
  {
   "cell_type": "markdown",
   "metadata": {},
   "source": [
    "The sample product set that we have are spread out across different categories - baby products, candies, cleaning products etc. So let us assume that a customer *“having kids or not”* is defintely an indicator of them buying baby and kids products. Lets go ahead and modify the customer feature group to add this new feature."
   ]
  },
  {
   "cell_type": "code",
   "execution_count": 17,
   "metadata": {},
   "outputs": [
    {
     "data": {
      "text/plain": [
       "{'FeatureGroupArn': 'arn:aws:sagemaker:us-east-1:758387645107:feature-group/fscw-customers-07-13-23-47',\n",
       " 'ResponseMetadata': {'RequestId': '331947d0-6ce6-4e30-8a61-0578f372cebf',\n",
       "  'HTTPStatusCode': 200,\n",
       "  'HTTPHeaders': {'x-amzn-requestid': '331947d0-6ce6-4e30-8a61-0578f372cebf',\n",
       "   'content-type': 'application/x-amz-json-1.1',\n",
       "   'content-length': '103',\n",
       "   'date': 'Wed, 13 Jul 2022 23:58:55 GMT'},\n",
       "  'RetryAttempts': 0}}"
      ]
     },
     "execution_count": 17,
     "metadata": {},
     "output_type": "execute_result"
    }
   ],
   "source": [
    "# Call UpdateFeatureGroup with feature addition(s)\n",
    "sagemaker_runtime.update_feature_group(\n",
    "    FeatureGroupName=customers_feature_group_name,\n",
    "    FeatureAdditions=[\n",
    "        {\"FeatureName\": \"has_kids\", \"FeatureType\": \"Integral\"}\n",
    "    ]\n",
    ")"
   ]
  },
  {
   "cell_type": "markdown",
   "metadata": {},
   "source": [
    "We have a sleep set for 60 seconds because the update operation could take a minute."
   ]
  },
  {
   "cell_type": "code",
   "execution_count": 18,
   "metadata": {},
   "outputs": [],
   "source": [
    "time.sleep(60)"
   ]
  },
  {
   "cell_type": "code",
   "execution_count": 19,
   "metadata": {},
   "outputs": [
    {
     "name": "stdout",
     "output_type": "stream",
     "text": [
      "{   'CreationTime': datetime.datetime(2022, 7, 13, 23, 48, 0, 160000, tzinfo=tzlocal()),\n",
      "    'EventTimeFeatureName': 'event_time',\n",
      "    'FeatureDefinitions': [   {   'FeatureName': 'customer_id',\n",
      "                                  'FeatureType': 'String'},\n",
      "                              {'FeatureName': 'sex', 'FeatureType': 'Integral'},\n",
      "                              {   'FeatureName': 'is_married',\n",
      "                                  'FeatureType': 'Integral'},\n",
      "                              {   'FeatureName': 'event_time',\n",
      "                                  'FeatureType': 'String'},\n",
      "                              {   'FeatureName': 'age_18-29',\n",
      "                                  'FeatureType': 'Integral'},\n",
      "                              {   'FeatureName': 'age_30-39',\n",
      "                                  'FeatureType': 'Integral'},\n",
      "                              {   'FeatureName': 'age_40-49',\n",
      "                                  'FeatureType': 'Integral'},\n",
      "                              {   'FeatureName': 'age_50-59',\n",
      "                                  'FeatureType': 'Integral'},\n",
      "                              {   'FeatureName': 'age_60-69',\n",
      "                                  'FeatureType': 'Integral'},\n",
      "                              {   'FeatureName': 'age_70-plus',\n",
      "                                  'FeatureType': 'Integral'},\n",
      "                              {   'FeatureName': 'n_days_active',\n",
      "                                  'FeatureType': 'Fractional'},\n",
      "                              {   'FeatureName': 'has_kids',\n",
      "                                  'FeatureType': 'Integral'}],\n",
      "    'FeatureGroupArn': 'arn:aws:sagemaker:us-east-1:758387645107:feature-group/fscw-customers-07-13-23-47',\n",
      "    'FeatureGroupName': 'fscw-customers-07-13-23-47',\n",
      "    'FeatureGroupStatus': 'Created',\n",
      "    'LastModifiedTime': datetime.datetime(2022, 7, 13, 23, 58, 56, 343000, tzinfo=tzlocal()),\n",
      "    'LastUpdateStatus': {'Status': 'Successful'},\n",
      "    'OfflineStoreConfig': {   'DataCatalogConfig': {   'Catalog': 'AwsDataCatalog',\n",
      "                                                       'Database': 'sagemaker_featurestore',\n",
      "                                                       'TableName': 'fscw-customers-07-13-23-47-1657756080'},\n",
      "                              'DisableGlueTableCreation': False,\n",
      "                              'S3StorageConfig': {   'ResolvedOutputS3Uri': 's3://sagemaker-us-east-1-758387645107/sagemaker-feature-store/758387645107/sagemaker/us-east-1/offline-store/fscw-customers-07-13-23-47-1657756080/data',\n",
      "                                                     'S3Uri': 's3://sagemaker-us-east-1-758387645107/sagemaker-feature-store'}},\n",
      "    'OfflineStoreStatus': {'Status': 'Active'},\n",
      "    'OnlineStoreConfig': {'EnableOnlineStore': True},\n",
      "    'OnlineStoreTotalSizeBytes': 0,\n",
      "    'RecordIdentifierFeatureName': 'customer_id',\n",
      "    'ResponseMetadata': {   'HTTPHeaders': {   'content-length': '2200',\n",
      "                                               'content-type': 'application/x-amz-json-1.1',\n",
      "                                               'date': 'Wed, 13 Jul 2022 '\n",
      "                                                       '23:59:23 GMT',\n",
      "                                               'x-amzn-requestid': '99cdcb0c-7ddb-42e4-a15a-c78ff381b614'},\n",
      "                            'HTTPStatusCode': 200,\n",
      "                            'RequestId': '99cdcb0c-7ddb-42e4-a15a-c78ff381b614',\n",
      "                            'RetryAttempts': 0},\n",
      "    'RoleArn': 'arn:aws:iam::758387645107:role/service-role/AmazonSageMaker-ExecutionRole-20211007T130308'}\n"
     ]
    }
   ],
   "source": [
    "describe_feature_group_result = sagemaker_runtime.describe_feature_group(\n",
    "    FeatureGroupName=customers_feature_group_name\n",
    ")\n",
    "pretty_printer.pprint(describe_feature_group_result)"
   ]
  },
  {
   "cell_type": "markdown",
   "metadata": {},
   "source": [
    "### Prepare \"has_kids\" feature data and ingest data again into customer feature group. \n",
    "<a id='ingest-customer-fg' />"
   ]
  },
  {
   "cell_type": "markdown",
   "metadata": {},
   "source": [
    "Verify that the feature is added to feature group before proceeding with this step. We retrieve the customer data from the csv and randomly generate 0 or 1 for \"has_kids\" feature and ingest into feature group"
   ]
  },
  {
   "cell_type": "code",
   "execution_count": 20,
   "metadata": {},
   "outputs": [
    {
     "data": {
      "text/html": [
       "<div>\n",
       "<style scoped>\n",
       "    .dataframe tbody tr th:only-of-type {\n",
       "        vertical-align: middle;\n",
       "    }\n",
       "\n",
       "    .dataframe tbody tr th {\n",
       "        vertical-align: top;\n",
       "    }\n",
       "\n",
       "    .dataframe thead th {\n",
       "        text-align: right;\n",
       "    }\n",
       "</style>\n",
       "<table border=\"1\" class=\"dataframe\">\n",
       "  <thead>\n",
       "    <tr style=\"text-align: right;\">\n",
       "      <th></th>\n",
       "      <th>customer_id</th>\n",
       "      <th>sex</th>\n",
       "      <th>is_married</th>\n",
       "      <th>event_time</th>\n",
       "      <th>age_18-29</th>\n",
       "      <th>age_30-39</th>\n",
       "      <th>age_40-49</th>\n",
       "      <th>age_50-59</th>\n",
       "      <th>age_60-69</th>\n",
       "      <th>age_70-plus</th>\n",
       "      <th>n_days_active</th>\n",
       "    </tr>\n",
       "  </thead>\n",
       "  <tbody>\n",
       "    <tr>\n",
       "      <th>0</th>\n",
       "      <td>C1</td>\n",
       "      <td>1</td>\n",
       "      <td>1</td>\n",
       "      <td>2022-07-13T23:46:23.861Z</td>\n",
       "      <td>0</td>\n",
       "      <td>0</td>\n",
       "      <td>0</td>\n",
       "      <td>1</td>\n",
       "      <td>0</td>\n",
       "      <td>0</td>\n",
       "      <td>0.521918</td>\n",
       "    </tr>\n",
       "    <tr>\n",
       "      <th>1</th>\n",
       "      <td>C2</td>\n",
       "      <td>0</td>\n",
       "      <td>1</td>\n",
       "      <td>2022-07-13T23:46:23.863Z</td>\n",
       "      <td>1</td>\n",
       "      <td>0</td>\n",
       "      <td>0</td>\n",
       "      <td>0</td>\n",
       "      <td>0</td>\n",
       "      <td>0</td>\n",
       "      <td>0.142466</td>\n",
       "    </tr>\n",
       "    <tr>\n",
       "      <th>2</th>\n",
       "      <td>C3</td>\n",
       "      <td>0</td>\n",
       "      <td>1</td>\n",
       "      <td>2022-07-13T23:46:23.872Z</td>\n",
       "      <td>0</td>\n",
       "      <td>0</td>\n",
       "      <td>0</td>\n",
       "      <td>0</td>\n",
       "      <td>1</td>\n",
       "      <td>0</td>\n",
       "      <td>0.141096</td>\n",
       "    </tr>\n",
       "    <tr>\n",
       "      <th>3</th>\n",
       "      <td>C4</td>\n",
       "      <td>0</td>\n",
       "      <td>1</td>\n",
       "      <td>2022-07-13T23:46:23.877Z</td>\n",
       "      <td>0</td>\n",
       "      <td>0</td>\n",
       "      <td>0</td>\n",
       "      <td>1</td>\n",
       "      <td>0</td>\n",
       "      <td>0</td>\n",
       "      <td>0.887671</td>\n",
       "    </tr>\n",
       "    <tr>\n",
       "      <th>4</th>\n",
       "      <td>C5</td>\n",
       "      <td>0</td>\n",
       "      <td>1</td>\n",
       "      <td>2022-07-13T23:46:23.878Z</td>\n",
       "      <td>0</td>\n",
       "      <td>1</td>\n",
       "      <td>0</td>\n",
       "      <td>0</td>\n",
       "      <td>0</td>\n",
       "      <td>0</td>\n",
       "      <td>0.265753</td>\n",
       "    </tr>\n",
       "  </tbody>\n",
       "</table>\n",
       "</div>"
      ],
      "text/plain": [
       "  customer_id  sex  is_married                event_time  age_18-29  \\\n",
       "0          C1    1           1  2022-07-13T23:46:23.861Z          0   \n",
       "1          C2    0           1  2022-07-13T23:46:23.863Z          1   \n",
       "2          C3    0           1  2022-07-13T23:46:23.872Z          0   \n",
       "3          C4    0           1  2022-07-13T23:46:23.877Z          0   \n",
       "4          C5    0           1  2022-07-13T23:46:23.878Z          0   \n",
       "\n",
       "   age_30-39  age_40-49  age_50-59  age_60-69  age_70-plus  n_days_active  \n",
       "0          0          0          1          0            0       0.521918  \n",
       "1          0          0          0          0            0       0.142466  \n",
       "2          0          0          0          1            0       0.141096  \n",
       "3          0          0          1          0            0       0.887671  \n",
       "4          1          0          0          0            0       0.265753  "
      ]
     },
     "execution_count": 20,
     "metadata": {},
     "output_type": "execute_result"
    }
   ],
   "source": [
    "customers_df = pd.read_csv('../data/transformed/customers.csv')\n",
    "customers_df.head(5)"
   ]
  },
  {
   "cell_type": "markdown",
   "metadata": {},
   "source": [
    "Use the NumPy library to generate random 1s and 0s"
   ]
  },
  {
   "cell_type": "code",
   "execution_count": 21,
   "metadata": {},
   "outputs": [],
   "source": [
    "customers_df['has_kids']=np.random.randint(0, 2, customers_df.shape[0])"
   ]
  },
  {
   "cell_type": "markdown",
   "metadata": {},
   "source": [
    "Drop the existing event time column and add current time as event time. These two steps are optional."
   ]
  },
  {
   "cell_type": "code",
   "execution_count": 22,
   "metadata": {},
   "outputs": [],
   "source": [
    "customers_df=customers_df.drop(['event_time'],axis=1)"
   ]
  },
  {
   "cell_type": "code",
   "execution_count": 23,
   "metadata": {},
   "outputs": [
    {
     "data": {
      "text/html": [
       "<div>\n",
       "<style scoped>\n",
       "    .dataframe tbody tr th:only-of-type {\n",
       "        vertical-align: middle;\n",
       "    }\n",
       "\n",
       "    .dataframe tbody tr th {\n",
       "        vertical-align: top;\n",
       "    }\n",
       "\n",
       "    .dataframe thead th {\n",
       "        text-align: right;\n",
       "    }\n",
       "</style>\n",
       "<table border=\"1\" class=\"dataframe\">\n",
       "  <thead>\n",
       "    <tr style=\"text-align: right;\">\n",
       "      <th></th>\n",
       "      <th>customer_id</th>\n",
       "      <th>sex</th>\n",
       "      <th>is_married</th>\n",
       "      <th>age_18-29</th>\n",
       "      <th>age_30-39</th>\n",
       "      <th>age_40-49</th>\n",
       "      <th>age_50-59</th>\n",
       "      <th>age_60-69</th>\n",
       "      <th>age_70-plus</th>\n",
       "      <th>n_days_active</th>\n",
       "      <th>has_kids</th>\n",
       "      <th>event_time</th>\n",
       "    </tr>\n",
       "  </thead>\n",
       "  <tbody>\n",
       "    <tr>\n",
       "      <th>0</th>\n",
       "      <td>C1</td>\n",
       "      <td>1</td>\n",
       "      <td>1</td>\n",
       "      <td>0</td>\n",
       "      <td>0</td>\n",
       "      <td>0</td>\n",
       "      <td>1</td>\n",
       "      <td>0</td>\n",
       "      <td>0</td>\n",
       "      <td>0.521918</td>\n",
       "      <td>1</td>\n",
       "      <td>2022-07-13T23:59:34.945Z</td>\n",
       "    </tr>\n",
       "    <tr>\n",
       "      <th>1</th>\n",
       "      <td>C2</td>\n",
       "      <td>0</td>\n",
       "      <td>1</td>\n",
       "      <td>1</td>\n",
       "      <td>0</td>\n",
       "      <td>0</td>\n",
       "      <td>0</td>\n",
       "      <td>0</td>\n",
       "      <td>0</td>\n",
       "      <td>0.142466</td>\n",
       "      <td>0</td>\n",
       "      <td>2022-07-13T23:59:34.945Z</td>\n",
       "    </tr>\n",
       "    <tr>\n",
       "      <th>2</th>\n",
       "      <td>C3</td>\n",
       "      <td>0</td>\n",
       "      <td>1</td>\n",
       "      <td>0</td>\n",
       "      <td>0</td>\n",
       "      <td>0</td>\n",
       "      <td>0</td>\n",
       "      <td>1</td>\n",
       "      <td>0</td>\n",
       "      <td>0.141096</td>\n",
       "      <td>0</td>\n",
       "      <td>2022-07-13T23:59:34.945Z</td>\n",
       "    </tr>\n",
       "    <tr>\n",
       "      <th>3</th>\n",
       "      <td>C4</td>\n",
       "      <td>0</td>\n",
       "      <td>1</td>\n",
       "      <td>0</td>\n",
       "      <td>0</td>\n",
       "      <td>0</td>\n",
       "      <td>1</td>\n",
       "      <td>0</td>\n",
       "      <td>0</td>\n",
       "      <td>0.887671</td>\n",
       "      <td>1</td>\n",
       "      <td>2022-07-13T23:59:34.945Z</td>\n",
       "    </tr>\n",
       "    <tr>\n",
       "      <th>4</th>\n",
       "      <td>C5</td>\n",
       "      <td>0</td>\n",
       "      <td>1</td>\n",
       "      <td>0</td>\n",
       "      <td>1</td>\n",
       "      <td>0</td>\n",
       "      <td>0</td>\n",
       "      <td>0</td>\n",
       "      <td>0</td>\n",
       "      <td>0.265753</td>\n",
       "      <td>1</td>\n",
       "      <td>2022-07-13T23:59:34.945Z</td>\n",
       "    </tr>\n",
       "  </tbody>\n",
       "</table>\n",
       "</div>"
      ],
      "text/plain": [
       "  customer_id  sex  is_married  age_18-29  age_30-39  age_40-49  age_50-59  \\\n",
       "0          C1    1           1          0          0          0          1   \n",
       "1          C2    0           1          1          0          0          0   \n",
       "2          C3    0           1          0          0          0          0   \n",
       "3          C4    0           1          0          0          0          1   \n",
       "4          C5    0           1          0          1          0          0   \n",
       "\n",
       "   age_60-69  age_70-plus  n_days_active  has_kids                event_time  \n",
       "0          0            0       0.521918         1  2022-07-13T23:59:34.945Z  \n",
       "1          0            0       0.142466         0  2022-07-13T23:59:34.945Z  \n",
       "2          1            0       0.141096         0  2022-07-13T23:59:34.945Z  \n",
       "3          0            0       0.887671         1  2022-07-13T23:59:34.945Z  \n",
       "4          0            0       0.265753         1  2022-07-13T23:59:34.945Z  "
      ]
     },
     "execution_count": 23,
     "metadata": {},
     "output_type": "execute_result"
    }
   ],
   "source": [
    "event_timestamps = [generate_event_timestamp() for _ in range(len(customers_df))]\n",
    "customers_df['event_time'] = event_timestamps\n",
    "customers_df.head(5)"
   ]
  },
  {
   "cell_type": "markdown",
   "metadata": {},
   "source": [
    "Ingest the updated data into feature group. In case ingest operation throws errors regarding feature not being present in the Feature Group, give the update operation some more time as mentioned before and try the ingest again."
   ]
  },
  {
   "cell_type": "code",
   "execution_count": 25,
   "metadata": {},
   "outputs": [
    {
     "name": "stderr",
     "output_type": "stream",
     "text": [
      "10000 customer records ingested into feature group: fscw-customers-07-13-23-47\n"
     ]
    },
    {
     "name": "stdout",
     "output_type": "stream",
     "text": [
      "CPU times: user 409 ms, sys: 175 ms, total: 584 ms\n",
      "Wall time: 17.7 s\n"
     ]
    }
   ],
   "source": [
    "%%time\n",
    "customers_fg.ingest(data_frame=customers_df, max_processes=16, wait=True)\n",
    "logger.info(f'{len(customers_df)} customer records ingested into feature group: {customers_feature_group_name}')"
   ]
  },
  {
   "cell_type": "markdown",
   "metadata": {},
   "source": [
    "Verify online store for a specific customer_id"
   ]
  },
  {
   "cell_type": "code",
   "execution_count": 26,
   "metadata": {},
   "outputs": [
    {
     "name": "stdout",
     "output_type": "stream",
     "text": [
      "{   'Record': [   {'FeatureName': 'customer_id', 'ValueAsString': 'C7942'},\n",
      "                  {'FeatureName': 'sex', 'ValueAsString': '1'},\n",
      "                  {'FeatureName': 'is_married', 'ValueAsString': '1'},\n",
      "                  {   'FeatureName': 'event_time',\n",
      "                      'ValueAsString': '2022-07-13T23:59:35.017Z'},\n",
      "                  {'FeatureName': 'age_18-29', 'ValueAsString': '1'},\n",
      "                  {'FeatureName': 'age_30-39', 'ValueAsString': '0'},\n",
      "                  {'FeatureName': 'age_40-49', 'ValueAsString': '0'},\n",
      "                  {'FeatureName': 'age_50-59', 'ValueAsString': '0'},\n",
      "                  {'FeatureName': 'age_60-69', 'ValueAsString': '0'},\n",
      "                  {'FeatureName': 'age_70-plus', 'ValueAsString': '0'},\n",
      "                  {   'FeatureName': 'n_days_active',\n",
      "                      'ValueAsString': '0.2356164383561644'},\n",
      "                  {'FeatureName': 'has_kids', 'ValueAsString': '1'}],\n",
      "    'ResponseMetadata': {   'HTTPHeaders': {   'content-length': '635',\n",
      "                                               'content-type': 'application/json',\n",
      "                                               'date': 'Thu, 14 Jul 2022 '\n",
      "                                                       '00:07:07 GMT',\n",
      "                                               'x-amzn-requestid': '16427a3d-4bf2-416e-9d72-4922bf5c55ca'},\n",
      "                            'HTTPStatusCode': 200,\n",
      "                            'RequestId': '16427a3d-4bf2-416e-9d72-4922bf5c55ca',\n",
      "                            'RetryAttempts': 0}}\n"
     ]
    }
   ],
   "source": [
    "get_record_result = featurestore_runtime.get_record(\n",
    "    FeatureGroupName=customers_feature_group_name,\n",
    "    RecordIdentifierValueAsString=customer_id\n",
    ")\n",
    "pretty_printer.pprint(get_record_result)"
   ]
  },
  {
   "cell_type": "markdown",
   "metadata": {},
   "source": [
    "Let us run Athena query to verify offline store. Note that the data ingestion into offline store could take some time since data is buffered, batched, and written into Amazon S3 within 15 minutes."
   ]
  },
  {
   "cell_type": "code",
   "execution_count": 27,
   "metadata": {},
   "outputs": [],
   "source": [
    "customers_query = customers_fg.athena_query()\n",
    "customers_table = customers_query.table_name"
   ]
  },
  {
   "cell_type": "code",
   "execution_count": 28,
   "metadata": {},
   "outputs": [],
   "source": [
    "output_location = f's3://{default_bucket}/{prefix}/query_results/'"
   ]
  },
  {
   "cell_type": "code",
   "execution_count": 29,
   "metadata": {},
   "outputs": [],
   "source": [
    "query_string = f'SELECT * FROM \"{customers_table}\" limit 10'"
   ]
  },
  {
   "cell_type": "code",
   "execution_count": 31,
   "metadata": {},
   "outputs": [
    {
     "data": {
      "text/html": [
       "<div>\n",
       "<style scoped>\n",
       "    .dataframe tbody tr th:only-of-type {\n",
       "        vertical-align: middle;\n",
       "    }\n",
       "\n",
       "    .dataframe tbody tr th {\n",
       "        vertical-align: top;\n",
       "    }\n",
       "\n",
       "    .dataframe thead th {\n",
       "        text-align: right;\n",
       "    }\n",
       "</style>\n",
       "<table border=\"1\" class=\"dataframe\">\n",
       "  <thead>\n",
       "    <tr style=\"text-align: right;\">\n",
       "      <th></th>\n",
       "      <th>customer_id</th>\n",
       "      <th>sex</th>\n",
       "      <th>is_married</th>\n",
       "      <th>event_time</th>\n",
       "      <th>age_18-29</th>\n",
       "      <th>age_30-39</th>\n",
       "      <th>age_40-49</th>\n",
       "      <th>age_50-59</th>\n",
       "      <th>age_60-69</th>\n",
       "      <th>age_70-plus</th>\n",
       "      <th>n_days_active</th>\n",
       "      <th>has_kids</th>\n",
       "      <th>write_time</th>\n",
       "      <th>api_invocation_time</th>\n",
       "      <th>is_deleted</th>\n",
       "    </tr>\n",
       "  </thead>\n",
       "  <tbody>\n",
       "    <tr>\n",
       "      <th>0</th>\n",
       "      <td>C1257</td>\n",
       "      <td>1</td>\n",
       "      <td>1</td>\n",
       "      <td>2022-07-13T23:59:34.956Z</td>\n",
       "      <td>1</td>\n",
       "      <td>0</td>\n",
       "      <td>0</td>\n",
       "      <td>0</td>\n",
       "      <td>0</td>\n",
       "      <td>0</td>\n",
       "      <td>0.161644</td>\n",
       "      <td>0</td>\n",
       "      <td>2022-07-14 00:04:38.131</td>\n",
       "      <td>2022-07-13 23:59:42.000</td>\n",
       "      <td>False</td>\n",
       "    </tr>\n",
       "    <tr>\n",
       "      <th>1</th>\n",
       "      <td>C3129</td>\n",
       "      <td>0</td>\n",
       "      <td>0</td>\n",
       "      <td>2022-07-13T23:59:34.980Z</td>\n",
       "      <td>0</td>\n",
       "      <td>0</td>\n",
       "      <td>0</td>\n",
       "      <td>0</td>\n",
       "      <td>0</td>\n",
       "      <td>1</td>\n",
       "      <td>0.539041</td>\n",
       "      <td>1</td>\n",
       "      <td>2022-07-14 00:04:38.131</td>\n",
       "      <td>2022-07-13 23:59:42.000</td>\n",
       "      <td>False</td>\n",
       "    </tr>\n",
       "    <tr>\n",
       "      <th>2</th>\n",
       "      <td>C658</td>\n",
       "      <td>0</td>\n",
       "      <td>1</td>\n",
       "      <td>2022-07-13T23:59:34.950Z</td>\n",
       "      <td>0</td>\n",
       "      <td>1</td>\n",
       "      <td>0</td>\n",
       "      <td>0</td>\n",
       "      <td>0</td>\n",
       "      <td>0</td>\n",
       "      <td>0.110274</td>\n",
       "      <td>0</td>\n",
       "      <td>2022-07-14 00:04:38.131</td>\n",
       "      <td>2022-07-13 23:59:43.000</td>\n",
       "      <td>False</td>\n",
       "    </tr>\n",
       "    <tr>\n",
       "      <th>3</th>\n",
       "      <td>C1282</td>\n",
       "      <td>0</td>\n",
       "      <td>0</td>\n",
       "      <td>2022-07-13T23:59:34.957Z</td>\n",
       "      <td>0</td>\n",
       "      <td>0</td>\n",
       "      <td>0</td>\n",
       "      <td>0</td>\n",
       "      <td>0</td>\n",
       "      <td>1</td>\n",
       "      <td>0.163014</td>\n",
       "      <td>0</td>\n",
       "      <td>2022-07-14 00:04:38.131</td>\n",
       "      <td>2022-07-13 23:59:43.000</td>\n",
       "      <td>False</td>\n",
       "    </tr>\n",
       "    <tr>\n",
       "      <th>4</th>\n",
       "      <td>C1900</td>\n",
       "      <td>0</td>\n",
       "      <td>1</td>\n",
       "      <td>2022-07-13T23:59:34.961Z</td>\n",
       "      <td>1</td>\n",
       "      <td>0</td>\n",
       "      <td>0</td>\n",
       "      <td>0</td>\n",
       "      <td>0</td>\n",
       "      <td>0</td>\n",
       "      <td>0.669863</td>\n",
       "      <td>0</td>\n",
       "      <td>2022-07-14 00:04:38.131</td>\n",
       "      <td>2022-07-13 23:59:43.000</td>\n",
       "      <td>False</td>\n",
       "    </tr>\n",
       "  </tbody>\n",
       "</table>\n",
       "</div>"
      ],
      "text/plain": [
       "  customer_id  sex  is_married                event_time  age_18-29  \\\n",
       "0       C1257    1           1  2022-07-13T23:59:34.956Z          1   \n",
       "1       C3129    0           0  2022-07-13T23:59:34.980Z          0   \n",
       "2        C658    0           1  2022-07-13T23:59:34.950Z          0   \n",
       "3       C1282    0           0  2022-07-13T23:59:34.957Z          0   \n",
       "4       C1900    0           1  2022-07-13T23:59:34.961Z          1   \n",
       "\n",
       "   age_30-39  age_40-49  age_50-59  age_60-69  age_70-plus  n_days_active  \\\n",
       "0          0          0          0          0            0       0.161644   \n",
       "1          0          0          0          0            1       0.539041   \n",
       "2          1          0          0          0            0       0.110274   \n",
       "3          0          0          0          0            1       0.163014   \n",
       "4          0          0          0          0            0       0.669863   \n",
       "\n",
       "   has_kids               write_time      api_invocation_time  is_deleted  \n",
       "0         0  2022-07-14 00:04:38.131  2022-07-13 23:59:42.000       False  \n",
       "1         1  2022-07-14 00:04:38.131  2022-07-13 23:59:42.000       False  \n",
       "2         0  2022-07-14 00:04:38.131  2022-07-13 23:59:43.000       False  \n",
       "3         0  2022-07-14 00:04:38.131  2022-07-13 23:59:43.000       False  \n",
       "4         0  2022-07-14 00:04:38.131  2022-07-13 23:59:43.000       False  "
      ]
     },
     "execution_count": 31,
     "metadata": {},
     "output_type": "execute_result"
    }
   ],
   "source": [
    "customers_query.run(query_string=query_string,output_location=output_location)\n",
    "customers_query.wait()\n",
    "athena_df = customers_query.as_dataframe()\n",
    "athena_df.head()"
   ]
  },
  {
   "cell_type": "markdown",
   "metadata": {},
   "source": [
    "As we see from the above step, it is very easy now to modify an existing feature group, add new features, and ingest data."
   ]
  },
  {
   "cell_type": "code",
   "execution_count": null,
   "metadata": {},
   "outputs": [],
   "source": [
    "customers_df.to_csv('../data/transformed/customers_has_kids.csv', index=False)"
   ]
  },
  {
   "cell_type": "markdown",
   "metadata": {},
   "source": [
    "### Verify offline store in Athena Console"
   ]
  },
  {
   "cell_type": "markdown",
   "metadata": {},
   "source": [
    "If it is for the first time we are launching Athena in AWS console we need to click on `Get Started` button and then before we run the first query we need to set up a query results location in Amazon S3. \n",
    "\n",
    "After setting the query results location, on the left panel we need to select the `AwsDataCatalog` as Data source and the `sagemaker_featurestore` as Database.\n",
    "\n",
    "We can run now run a query for the offline feature store data in Athena. To select the entries from the orders feature group we use the following SQL query. You will need to replace the orders table name with the corresponded value from your environment.\n",
    "\n",
    "```sql\n",
    "select * from \"<customers-table>\"\n",
    "limit 100\n",
    "```\n",
    "\n",
    "![Customers offline data](../images/m3_nb4_athena_query.png \"Customers Offline Data\")"
   ]
  },
  {
   "cell_type": "markdown",
   "metadata": {},
   "source": [
    "## Optional steps\n",
    "From here on in this notebook, we use the data that has the new feature \"has_kids\" and train the model again with the data, deploy the model and test it against sample data. The intention is not to prove that model performance improves (mind you this is sample data!) but to show a real life use case where modified feature groups can be used for training."
   ]
  },
  {
   "cell_type": "markdown",
   "metadata": {},
   "source": [
    "### Prepare model training dataset\n",
    "<a id='model-training-data' />"
   ]
  },
  {
   "cell_type": "markdown",
   "metadata": {},
   "source": [
    "Prepare train, test and validation data "
   ]
  },
  {
   "cell_type": "code",
   "execution_count": null,
   "metadata": {},
   "outputs": [],
   "source": [
    "products_query = products_fg.athena_query()\n",
    "products_table = products_query.table_name\n",
    "\n",
    "orders_query = orders_fg.athena_query()\n",
    "orders_table = orders_query.table_name"
   ]
  },
  {
   "cell_type": "markdown",
   "metadata": {},
   "source": [
    "To prepare training, validation and test data, we run an Athena query against offline feature store and get records for which \"has_kids\" has been populated. Why do we do this? Because offline feature store has historical records, we want only the latest ingested data that has \"has_kids\" populated for retraining our model."
   ]
  },
  {
   "cell_type": "code",
   "execution_count": null,
   "metadata": {},
   "outputs": [],
   "source": [
    "query_string = f'SELECT * FROM \"{customers_table}\", \"{products_table}\", \"{orders_table}\" ' \\\n",
    "               f'WHERE (\"{orders_table}\".\"customer_id\" = \"{customers_table}\".\"customer_id\") ' \\\n",
    "               f'AND (\"{orders_table}\".\"product_id\" = \"{products_table}\".\"product_id\")' \\\n",
    "               f'AND (\"{customers_table}\".\"has_kids\" is not null)'\n",
    "query_string"
   ]
  },
  {
   "cell_type": "code",
   "execution_count": null,
   "metadata": {},
   "outputs": [],
   "source": [
    "orders_query.run(query_string=query_string, output_location=output_location)\n",
    "orders_query.wait()\n",
    "joined_df = orders_query.as_dataframe()\n",
    "joined_df.head()"
   ]
  },
  {
   "cell_type": "code",
   "execution_count": null,
   "metadata": {},
   "outputs": [],
   "source": [
    "joined_df.shape"
   ]
  },
  {
   "cell_type": "code",
   "execution_count": null,
   "metadata": {},
   "outputs": [],
   "source": [
    "model_df = joined_df.drop(['order_id', \n",
    "                           'customer_id', \n",
    "                           'product_id', \n",
    "                           'event_time', \n",
    "                           'write_time', \n",
    "                           'api_invocation_time', \n",
    "                           'is_deleted', \n",
    "                           'product_id.1', \n",
    "                           'event_time.1', \n",
    "                           'write_time.1', \n",
    "                           'api_invocation_time.1', \n",
    "                           'is_deleted.1', \n",
    "                           'customer_id.1', \n",
    "                           'purchase_amount',\n",
    "                           'event_time.2', \n",
    "                           'n_days_since_last_purchase',\n",
    "                           'write_time.2', \n",
    "                           'api_invocation_time.2', \n",
    "                           'is_deleted.2'], axis=1)"
   ]
  },
  {
   "cell_type": "code",
   "execution_count": null,
   "metadata": {},
   "outputs": [],
   "source": [
    "model_df.head(5)"
   ]
  },
  {
   "cell_type": "code",
   "execution_count": null,
   "metadata": {},
   "outputs": [],
   "source": [
    "first_column = model_df.pop('is_reordered')\n",
    "model_df.insert(0, 'is_reordered', first_column)\n",
    "model_df.head()"
   ]
  },
  {
   "cell_type": "code",
   "execution_count": null,
   "metadata": {},
   "outputs": [],
   "source": [
    "model_df.to_csv('../data/retrain/transformed_has_kids.csv', index=False)"
   ]
  },
  {
   "cell_type": "markdown",
   "metadata": {},
   "source": [
    "### Retrain the XGBoost model with the update feature group\n",
    "<a id='retrain-xg-boost' />"
   ]
  },
  {
   "cell_type": "markdown",
   "metadata": {},
   "source": [
    "Now lets train the model again with this new data set"
   ]
  },
  {
   "cell_type": "code",
   "execution_count": null,
   "metadata": {},
   "outputs": [],
   "source": [
    "train_df, validation_df, test_df = np.split(model_df.sample(frac=1, random_state=123), [int(.7*len(model_df)), int(.9*len(model_df))])"
   ]
  },
  {
   "cell_type": "code",
   "execution_count": null,
   "metadata": {},
   "outputs": [],
   "source": [
    "train_df.shape"
   ]
  },
  {
   "cell_type": "code",
   "execution_count": null,
   "metadata": {},
   "outputs": [],
   "source": [
    "validation_df.shape"
   ]
  },
  {
   "cell_type": "code",
   "execution_count": null,
   "metadata": {},
   "outputs": [],
   "source": [
    "test_df.shape"
   ]
  },
  {
   "cell_type": "markdown",
   "metadata": {},
   "source": [
    "Store the train, validation and test data locally and i"
   ]
  },
  {
   "cell_type": "code",
   "execution_count": null,
   "metadata": {},
   "outputs": [],
   "source": [
    "train_df.to_csv('../data/retrain/train.csv', index=False)\n",
    "validation_df.to_csv('../data/retrain/validation.csv', index=False)\n",
    "test_df.to_csv('../data/retrain/test.csv', index=False)"
   ]
  },
  {
   "cell_type": "code",
   "execution_count": null,
   "metadata": {},
   "outputs": [],
   "source": [
    "s3.Bucket(default_bucket).Object(os.path.join(prefix, 'retrain/train.csv')).upload_file('../data/retrain/train.csv')\n",
    "s3.Bucket(default_bucket).Object(os.path.join(prefix, 'retrain/validation.csv')).upload_file('../data/retrain/validation.csv')\n",
    "s3.Bucket(default_bucket).Object(os.path.join(prefix, 'retrain/test.csv')).upload_file('../data/retrain/test.csv')"
   ]
  },
  {
   "cell_type": "code",
   "execution_count": null,
   "metadata": {},
   "outputs": [],
   "source": [
    "train_set_location = 's3://{}/{}/retrain/'.format(default_bucket, prefix)\n",
    "validation_set_location = 's3://{}/{}/retrain/'.format(default_bucket, prefix)\n",
    "test_set_location = 's3://{}/{}/retrain/'.format(default_bucket, prefix)"
   ]
  },
  {
   "cell_type": "code",
   "execution_count": null,
   "metadata": {},
   "outputs": [],
   "source": [
    "train_set_pointer = TrainingInput(s3_data=train_set_location, content_type='csv')\n",
    "validation_set_pointer = TrainingInput(s3_data=validation_set_location, content_type='csv')\n",
    "test_set_pointer = TrainingInput(s3_data=test_set_location, content_type='csv')"
   ]
  },
  {
   "cell_type": "code",
   "execution_count": null,
   "metadata": {},
   "outputs": [],
   "source": [
    "container_uri = sagemaker.image_uris.retrieve(region=boto_session.region_name, \n",
    "                                              framework='xgboost', \n",
    "                                              version='1.0-1', \n",
    "                                              image_scope='training')"
   ]
  },
  {
   "cell_type": "code",
   "execution_count": null,
   "metadata": {},
   "outputs": [],
   "source": [
    "xgb = sagemaker.estimator.Estimator(image_uri=container_uri,\n",
    "                                    role=role, \n",
    "                                    instance_count=2, \n",
    "                                    instance_type='ml.m5.xlarge',\n",
    "                                    output_path='s3://{}/{}/model-artifacts'.format(default_bucket, prefix),\n",
    "                                    sagemaker_session=sagemaker_session,\n",
    "                                    base_job_name='reorder-classifier')\n",
    "\n",
    "xgb.set_hyperparameters(objective='binary:logistic',\n",
    "                        num_round=100)"
   ]
  },
  {
   "cell_type": "code",
   "execution_count": null,
   "metadata": {},
   "outputs": [],
   "source": [
    "xgb.fit({'train': train_set_pointer, 'validation': validation_set_pointer})"
   ]
  },
  {
   "cell_type": "code",
   "execution_count": null,
   "metadata": {},
   "outputs": [],
   "source": [
    "xgb_predictor = xgb.deploy(initial_instance_count=2,\n",
    "                           instance_type='ml.m5.xlarge')"
   ]
  },
  {
   "cell_type": "markdown",
   "metadata": {},
   "source": [
    "### Real time inference using the deployed endpoint\n",
    "<a id='real-time-inference' />"
   ]
  },
  {
   "cell_type": "markdown",
   "metadata": {},
   "source": [
    "Lets get a record from test data and test the inference."
   ]
  },
  {
   "cell_type": "code",
   "execution_count": null,
   "metadata": {},
   "outputs": [],
   "source": [
    "csv_serializer = CSVSerializer()\n",
    "endpoint_name = xgb_predictor.endpoint_name\n",
    "predictor = Predictor(endpoint_name=endpoint_name, \n",
    "                      serializer=csv_serializer)"
   ]
  },
  {
   "cell_type": "code",
   "execution_count": null,
   "metadata": {},
   "outputs": [],
   "source": [
    "test_df = pd.read_csv('../data/retrain/test.csv')\n",
    "record = test_df.sample(1)\n",
    "record"
   ]
  },
  {
   "cell_type": "code",
   "execution_count": null,
   "metadata": {},
   "outputs": [],
   "source": [
    "X = record.values[0]\n",
    "payload = X[1:]\n",
    "payload"
   ]
  },
  {
   "cell_type": "code",
   "execution_count": null,
   "metadata": {},
   "outputs": [],
   "source": [
    "%%time\n",
    "\n",
    "predicted_class_prob = predictor.predict(payload).decode('utf-8')\n",
    "logger.info(f'Predicted calss probability {predicted_class_prob}')\n",
    "if float(predicted_class_prob) < 0.5:\n",
    "    logger.info('Prediction (y) = Will not reorder')\n",
    "else:\n",
    "    logger.info('Prediction (y) = Will reorder')"
   ]
  },
  {
   "cell_type": "markdown",
   "metadata": {},
   "source": [
    "### Cleanup"
   ]
  },
  {
   "cell_type": "markdown",
   "metadata": {},
   "source": [
    "Now that we have seen how features can be added to feature groups, it is time to delete unwated resources like endpoints to not incur charges"
   ]
  },
  {
   "cell_type": "code",
   "execution_count": null,
   "metadata": {},
   "outputs": [],
   "source": [
    "describe_feature_group_result = sagemaker_runtime.describe_feature_group(\n",
    "    FeatureGroupName=customers_feature_group_name\n",
    ")\n",
    "pretty_printer.pprint(describe_feature_group_result)"
   ]
  },
  {
   "cell_type": "markdown",
   "metadata": {},
   "source": [
    "Delete the endpoint"
   ]
  },
  {
   "cell_type": "code",
   "execution_count": null,
   "metadata": {},
   "outputs": [],
   "source": [
    "response = sagemaker_runtime.describe_endpoint_config(EndpointConfigName=endpoint_name)\n",
    "model_name = response['ProductionVariants'][0]['ModelName']\n",
    "model_name"
   ]
  },
  {
   "cell_type": "code",
   "execution_count": null,
   "metadata": {},
   "outputs": [],
   "source": [
    "sagemaker_runtime.delete_model(ModelName=model_name)  "
   ]
  },
  {
   "cell_type": "code",
   "execution_count": null,
   "metadata": {},
   "outputs": [],
   "source": [
    "sagemaker_runtime.delete_endpoint(EndpointName=endpoint_name)"
   ]
  },
  {
   "cell_type": "code",
   "execution_count": null,
   "metadata": {},
   "outputs": [],
   "source": [
    "sagemaker_runtime.delete_endpoint_config(EndpointConfigName=endpoint_name)"
   ]
  },
  {
   "cell_type": "code",
   "execution_count": null,
   "metadata": {},
   "outputs": [],
   "source": []
  }
 ],
 "metadata": {
  "instance_type": "ml.t3.medium",
  "kernelspec": {
   "display_name": "Python 3 (Data Science)",
   "language": "python",
   "name": "python3__SAGEMAKER_INTERNAL__arn:aws:sagemaker:us-east-1:081325390199:image/datascience-1.0"
  },
  "language_info": {
   "codemirror_mode": {
    "name": "ipython",
    "version": 3
   },
   "file_extension": ".py",
   "mimetype": "text/x-python",
   "name": "python",
   "nbconvert_exporter": "python",
   "pygments_lexer": "ipython3",
   "version": "3.7.10"
  }
 },
 "nbformat": 4,
 "nbformat_minor": 4
}
